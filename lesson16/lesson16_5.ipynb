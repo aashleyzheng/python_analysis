{
 "cells": [
  {
   "cell_type": "markdown",
   "id": "1d4b6671",
   "metadata": {},
   "source": [
    "### DataFrame，使用元素值的過濾\n",
    "- 使用比較運算子"
   ]
  },
  {
   "cell_type": "code",
   "execution_count": null,
   "id": "e4de84e8",
   "metadata": {},
   "outputs": [],
   "source": []
  }
 ],
 "metadata": {
  "kernelspec": {
   "display_name": "myenv",
   "language": "python",
   "name": "python3"
  },
  "language_info": {
   "name": "python",
   "version": "3.10.16"
  }
 },
 "nbformat": 4,
 "nbformat_minor": 5
}
