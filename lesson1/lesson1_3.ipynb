{
 "cells": [
  {
   "cell_type": "code",
   "execution_count": null,
   "id": "9fe7f044",
   "metadata": {},
   "outputs": [],
   "source": [
    "print(\"這是python的第1節課\")"
   ]
  }
 ],
 "metadata": {
  "language_info": {
   "name": "python"
  }
 },
 "nbformat": 4,
 "nbformat_minor": 5
}
