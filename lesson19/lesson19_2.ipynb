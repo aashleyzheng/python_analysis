{
 "cells": [
  {
   "cell_type": "markdown",
   "id": "455a72d9",
   "metadata": {},
   "source": []
  },
  {
   "cell_type": "code",
   "execution_count": null,
   "id": "fbbbda77",
   "metadata": {},
   "outputs": [],
   "source": [
    "import numpy as np\n",
    "import pandas as pd\n",
    "import matplotlib.pyplot as plt\n",
    "\n",
    "dataFrame\n",
    "figure = plt."
   ]
  },
  {
   "cell_type": "code",
   "execution_count": null,
   "id": "46f5da25",
   "metadata": {},
   "outputs": [],
   "source": [
    "corr_value = dataFrame['年廣告費投入'].corr(dataFrame['月均銷售額'])\n",
    "print(f\"\")"
   ]
  }
 ],
 "metadata": {
  "kernelspec": {
   "display_name": "myenv",
   "language": "python",
   "name": "python3"
  },
  "language_info": {
   "name": "python",
   "version": "3.10.16"
  }
 },
 "nbformat": 4,
 "nbformat_minor": 5
}
