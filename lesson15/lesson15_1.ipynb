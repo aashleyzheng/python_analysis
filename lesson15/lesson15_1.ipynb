{
 "cells": [
  {
   "cell_type": "markdown",
   "id": "ab31b062",
   "metadata": {},
   "source": [
    "https://www.perplexity.ai/search/0638400d-59de-4d83-8e38-0cb807daf590"
   ]
  },
  {
   "cell_type": "code",
   "execution_count": null,
   "id": "65af2702",
   "metadata": {},
   "outputs": [],
   "source": [
    "import numpy as np\n",
    "from numpy import ndarray\n",
    "\n",
    "my_array:ndarray = np.arange(1000000)\n",
    "my_list = list(range(1000000))"
   ]
  },
  {
   "cell_type": "code",
   "execution_count": null,
   "id": "ce60b554",
   "metadata": {},
   "outputs": [],
   "source": [
    "#計算花了多少時間\n",
    "%time\n",
    "\n",
    "for _ in range(10):\n",
    "    #list的comprehension,list綜合表達式\n",
    "    my_lists = [x*2 for x in my_list]"
   ]
  },
  {
   "cell_type": "code",
   "execution_count": null,
   "id": "5546a49e",
   "metadata": {},
   "outputs": [],
   "source": [
    "%time for _ in range(10): my_array2 = my_array * 2"
   ]
  },
  {
   "cell_type": "code",
   "execution_count": null,
   "id": "4114a725",
   "metadata": {},
   "outputs": [],
   "source": [
    "#tuple,1個元素的表示法\n",
    "(4, 5)\n",
    "type((4,)) #1個元素"
   ]
  },
  {
   "cell_type": "code",
   "execution_count": null,
   "id": "c93cc0ee",
   "metadata": {},
   "outputs": [],
   "source": [
    "#shape看屬性，有4個元素\n",
    "np.array(range(4)).shape"
   ]
  },
  {
   "cell_type": "markdown",
   "id": "00e5d63b",
   "metadata": {},
   "source": [
    "#### 50個學生，每個學生有5個分數，每個分數50~100"
   ]
  },
  {
   "cell_type": "code",
   "execution_count": null,
   "id": "142224bd",
   "metadata": {},
   "outputs": [],
   "source": [
    "#np.random.seed => 可以產生多維\n",
    "np.random.seed(42)\n",
    "scores = np.random.randint(50, 101, (50,5))\n",
    "scores"
   ]
  },
  {
   "cell_type": "code",
   "execution_count": null,
   "id": "ec03f2e3",
   "metadata": {},
   "outputs": [],
   "source": [
    "#ndarray常用的實體屬性\n",
    "scores.ndim #維度\n",
    "scores.shape\n",
    "scores.size\n",
    "scores.dtype"
   ]
  },
  {
   "cell_type": "markdown",
   "id": "5a08b879",
   "metadata": {},
   "source": [
    "#### 基本索引(index)和分割(slicing)\n",
    "- ndarray[index]\n",
    "- ndarray[start:end:step]"
   ]
  },
  {
   "cell_type": "code",
   "execution_count": null,
   "id": "5bb702a5",
   "metadata": {},
   "outputs": [],
   "source": [
    "#2維\n",
    "scores[0][4] #1維，類似list的操作\n",
    "\n",
    "#一般都是使用這種方式\n",
    "scores[0, 4] #ndarray的slice的操作法"
   ]
  },
  {
   "cell_type": "code",
   "execution_count": null,
   "id": "2f95c58a",
   "metadata": {},
   "outputs": [],
   "source": [
    "## 取得第1位學生的分數\n",
    "scores[0] #shape(5,)\n",
    "scores[0,:] #shape(5,0)\n",
    "scores[0:1,:] #0~1，不包含1 #shape(1,5) => 二維"
   ]
  },
  {
   "cell_type": "code",
   "execution_count": null,
   "id": "0c41f1e2",
   "metadata": {},
   "outputs": [],
   "source": [
    "## 取得1,2位學生的分數\n",
    "scores[:2]\n",
    "scores[:2,:]\n",
    "scores[(0,1),:]"
   ]
  },
  {
   "cell_type": "code",
   "execution_count": null,
   "id": "e849363f",
   "metadata": {},
   "outputs": [],
   "source": [
    "## 取得1,2,5位學生的分數\n",
    "scores[(0,1,4),:]"
   ]
  },
  {
   "cell_type": "code",
   "execution_count": null,
   "id": "06e8564b",
   "metadata": {},
   "outputs": [],
   "source": [
    "## 取得第1科的所有分數\n",
    "scores[:,0] #(50,)\n",
    "\n",
    "## 二維\n",
    "scores[:,0:1] #(1,50)"
   ]
  },
  {
   "cell_type": "code",
   "execution_count": null,
   "id": "34ee07a7",
   "metadata": {},
   "outputs": [],
   "source": [
    "## 取得第1,2科的所有分數\n",
    "scores[:,:2] #(50,2)"
   ]
  },
  {
   "cell_type": "code",
   "execution_count": null,
   "id": "122aa0ed",
   "metadata": {},
   "outputs": [],
   "source": [
    "## 取得前30位學生的最後3科分數\n",
    "scores[:30,-3:] #(30,3)"
   ]
  }
 ],
 "metadata": {
  "kernelspec": {
   "display_name": "myenv",
   "language": "python",
   "name": "python3"
  },
  "language_info": {
   "codemirror_mode": {
    "name": "ipython",
    "version": 3
   },
   "file_extension": ".py",
   "mimetype": "text/x-python",
   "name": "python",
   "nbconvert_exporter": "python",
   "pygments_lexer": "ipython3",
   "version": "3.10.16"
  }
 },
 "nbformat": 4,
 "nbformat_minor": 5
}
