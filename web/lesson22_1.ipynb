{
 "cells": [
  {
   "cell_type": "code",
   "execution_count": 2,
   "id": "72c81833",
   "metadata": {},
   "outputs": [
    {
     "name": "stdout",
     "output_type": "stream",
     "text": [
      "天空之所以呈現藍色，主要是由於一種稱為**瑞利散射 (Rayleigh Scattering)** 的物理現象。\n",
      "\n",
      "讓我們一步步來理解：\n",
      "\n",
      "1.  **陽光是白色光：** 我們看到的陽光看似是白色的，但它實際上是由所有可見光譜的顏色（紅、橙、黃、綠、藍、靛、紫）混合而成的。就像彩虹一樣，當光線穿過水滴時，會被分解成這些不同的顏色。\n",
      "\n",
      "2.  **地球的大氣層：** 地球被一層厚厚的大氣層包裹著，其中包含大量的氣體分子（主要是氮氣和氧氣）以及微小的塵埃顆粒。\n",
      "\n",
      "3.  **光的散射：** 當陽光進入大氣層時，光線會與這些氣體分子和顆粒發生相互作用。光線遇到這些微小的障礙物時，會向四面八方散開，這個過程就叫做「散射」。\n",
      "\n",
      "4.  **波長與散射的關係（關鍵）：**\n",
      "    *   可見光的不同顏色有不同的波長。藍光和紫光的波長較短，紅光和橙光的波長較長。\n",
      "    *   瑞利散射定律指出：散射的強度與光波長的四次方成反比。這意味著，**波長越短的光，被散射的程度就越強烈**。\n",
      "    *   因此，在大氣層中，波長較短的藍光和紫光比波長較長的紅光和黃光更容易被空氣分子散射開來。\n",
      "\n",
      "5.  **天空為什麼是藍色而不是紫色？**\n",
      "    *   儘管紫光的波長比藍光更短，散射強度更大，但我們看到的卻是藍色居多。這有兩個主要原因：\n",
      "        *   **陽光中藍光含量更多：** 太陽光本身發射的藍光比紫光多。\n",
      "        *   **人眼對藍光更敏感：** 我們的眼睛對藍光的敏感度比對紫光更高。\n",
      "    *   所以，雖然紫光也被大量散射，但由於上述兩個原因，最終進入我們眼睛的被散射光主要是藍光，使得天空呈現藍色。\n",
      "\n",
      "**總結來說：**\n",
      "\n",
      "當太陽光穿過地球大氣層時，其中波長較短的藍光和紫光被空氣中的分子和微粒大量散射到四面八方。由於藍光的散射效率最高且人眼對其敏感，所以無論我們看向天空的哪個方向，都有被散射的藍光進入我們的眼睛，使得整個天空呈現出蔚藍色。\n",
      "\n",
      "**延伸思考：日出和日落時天空為什麼是紅色或橙色的？**\n",
      "\n",
      "當太陽位於地平線附近（日出或日落）時，陽光需要穿過更厚的大氣層才能到達我們的眼睛。在這個過程中，大部分的藍光都被散射掉了，只剩下波長較長、不易被散射的紅光、橙光和黃光能夠直接穿透大氣層到達我們的眼睛，這就形成了美麗的紅色或橙色日出和日落景象。\n"
     ]
    }
   ],
   "source": [
    "from google import genai\n",
    "from dotenv import load_dotenv\n",
    "import os\n",
    "load_dotenv()\n",
    "\n",
    "client = genai.Client(api_key=os.environ['Gemini_API_KEY'])\n",
    "\n",
    "response = client.models.generate_content(\n",
    "    model=\"gemini-2.5-flash\", contents=\"天空為什麼是藍的\"\n",
    ")\n",
    "print(response.text)"
   ]
  }
 ],
 "metadata": {
  "kernelspec": {
   "display_name": "data_analysis",
   "language": "python",
   "name": "python3"
  },
  "language_info": {
   "codemirror_mode": {
    "name": "ipython",
    "version": 3
   },
   "file_extension": ".py",
   "mimetype": "text/x-python",
   "name": "python",
   "nbconvert_exporter": "python",
   "pygments_lexer": "ipython3",
   "version": "3.12.11"
  }
 },
 "nbformat": 4,
 "nbformat_minor": 5
}
