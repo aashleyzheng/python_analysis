{
 "cells": [
  {
   "cell_type": "markdown",
   "id": "784f776b",
   "metadata": {},
   "source": [
    "### if -> 流程控制"
   ]
  },
  {
   "cell_type": "markdown",
   "id": "4d860572",
   "metadata": {},
   "source": [
    "#### 單項選擇"
   ]
  },
  {
   "cell_type": "code",
   "execution_count": null,
   "id": "ce5be875",
   "metadata": {},
   "outputs": [],
   "source": [
    "if True:\n",
    "    print(\"這是單項選擇\")\n",
    "    print(\"這是True的程式區塊\")"
   ]
  },
  {
   "cell_type": "markdown",
   "id": "09f0a178",
   "metadata": {},
   "source": [
    "#### 雙向選擇"
   ]
  },
  {
   "cell_type": "code",
   "execution_count": null,
   "id": "5e03c6d5",
   "metadata": {},
   "outputs": [],
   "source": [
    "if False:\n",
    "    print(\"這是雙項選擇\")\n",
    "    print(\"這是True的程式區塊\")\n",
    "else:\n",
    "    print(\"這是雙項選擇\")\n",
    "    print(\"這是False的程式區塊\")"
   ]
  }
 ],
 "metadata": {
  "kernelspec": {
   "display_name": "base",
   "language": "python",
   "name": "python3"
  },
  "language_info": {
   "name": "python",
   "version": "3.12.7"
  }
 },
 "nbformat": 4,
 "nbformat_minor": 5
}
