{
 "cells": [
  {
   "cell_type": "markdown",
   "id": "784f776b",
   "metadata": {},
   "source": [
    "### if -> 流程控制"
   ]
  },
  {
   "cell_type": "markdown",
   "id": "4d860572",
   "metadata": {},
   "source": [
    "#### 單項選擇"
   ]
  },
  {
   "cell_type": "code",
   "execution_count": 1,
   "id": "ce5be875",
   "metadata": {},
   "outputs": [
    {
     "name": "stdout",
     "output_type": "stream",
     "text": [
      "這是單項選擇\n",
      "這是True的程式區塊\n"
     ]
    }
   ],
   "source": [
    "if True:\n",
    "    print(\"這是單項選擇\")\n",
    "    print(\"這是True的程式區塊\")"
   ]
  },
  {
   "cell_type": "markdown",
   "id": "09f0a178",
   "metadata": {},
   "source": [
    "#### 雙向選擇"
   ]
  },
  {
   "cell_type": "code",
   "execution_count": 2,
   "id": "5e03c6d5",
   "metadata": {},
   "outputs": [
    {
     "name": "stdout",
     "output_type": "stream",
     "text": [
      "這是雙項選擇\n",
      "這是False的程式區塊\n"
     ]
    }
   ],
   "source": [
    "if False:\n",
    "    print(\"這是雙項選擇\")\n",
    "    print(\"這是True的程式區塊\")\n",
    "else:\n",
    "    print(\"這是雙項選擇\")\n",
    "    print(\"這是False的程式區塊\")"
   ]
  },
  {
   "cell_type": "markdown",
   "id": "b1898a89",
   "metadata": {},
   "source": [
    "### if 後面可以放比較運算子"
   ]
  },
  {
   "cell_type": "code",
   "execution_count": 5,
   "id": "0f6eb418",
   "metadata": {},
   "outputs": [
    {
     "data": {
      "text/plain": [
       "False"
      ]
     },
     "execution_count": 5,
     "metadata": {},
     "output_type": "execute_result"
    }
   ],
   "source": [
    "5 > 3\n",
    "20 == 20\n",
    "20 != 20"
   ]
  },
  {
   "cell_type": "code",
   "execution_count": 7,
   "id": "08e6d11d",
   "metadata": {},
   "outputs": [
    {
     "name": "stdout",
     "output_type": "stream",
     "text": [
      "未成年\n"
     ]
    }
   ],
   "source": [
    "age = int(input(\"請輸入age:\"))\n",
    "if age < 18:\n",
    "    print(\"未成年\")\n",
    "else:\n",
    "    print(\"成年\")"
   ]
  },
  {
   "cell_type": "markdown",
   "id": "f8473e94",
   "metadata": {},
   "source": [
    "- 學生總分為300\n",
    "- 有些學生可以加分5%"
   ]
  },
  {
   "cell_type": "code",
   "execution_count": 13,
   "id": "2e92f254",
   "metadata": {},
   "outputs": [
    {
     "name": "stdout",
     "output_type": "stream",
     "text": [
      "學生分數是:262\n"
     ]
    }
   ],
   "source": [
    "scores = int(input(\"請輸入學生分數(最高300分):\"))\n",
    "is_add = input(\"學生是否符合加分條件?(y.n)\")\n",
    "if (is_add == \"y\"):\n",
    "    scores *= 1.05\n",
    "\n",
    "print(f\"學生分數是:{round(scores)}\")"
   ]
  },
  {
   "cell_type": "markdown",
   "id": "f7984691",
   "metadata": {},
   "source": [
    "- 學生總分為300\n",
    "- 有些學生可以加分5%\n",
    "- 如果加分超過300分，就以300分為準"
   ]
  },
  {
   "cell_type": "code",
   "execution_count": null,
   "id": "47274d6e",
   "metadata": {},
   "outputs": [
    {
     "name": "stdout",
     "output_type": "stream",
     "text": [
      "學生分數是:300\n"
     ]
    }
   ],
   "source": [
    "scores = int(input(\"請輸入學生分數(最高300分):\"))\n",
    "is_add = input(\"學生是否符合加分條件?(y,n)\")\n",
    "\n",
    "#if巢狀判斷\n",
    "if (is_add == \"y\"):\n",
    "    scores *= 1.05\n",
    "    if scores > 300:\n",
    "        scores = 300\n",
    "    \n",
    "print(f\"學生分數是:{round(scores)}\")"
   ]
  }
 ],
 "metadata": {
  "kernelspec": {
   "display_name": "base",
   "language": "python",
   "name": "python3"
  },
  "language_info": {
   "codemirror_mode": {
    "name": "ipython",
    "version": 3
   },
   "file_extension": ".py",
   "mimetype": "text/x-python",
   "name": "python",
   "nbconvert_exporter": "python",
   "pygments_lexer": "ipython3",
   "version": "3.12.7"
  }
 },
 "nbformat": 4,
 "nbformat_minor": 5
}
