{
 "cells": [
  {
   "cell_type": "markdown",
   "id": "b4e1bd26",
   "metadata": {},
   "source": [
    "### 巢狀判斷-有多個條件時\n",
    "- 貓\n",
    "- 熊\n",
    "- 蜥蜴\n",
    "- 人類"
   ]
  },
  {
   "cell_type": "code",
   "execution_count": 12,
   "id": "c109dfad",
   "metadata": {},
   "outputs": [
    {
     "name": "stdout",
     "output_type": "stream",
     "text": [
      "熊\n"
     ]
    }
   ],
   "source": [
    "furry:bool = True #:bool可寫可不寫\n",
    "small:bool = False\n",
    "\n",
    "#雙向選擇\n",
    "if furry: #有毛的\n",
    "    if small:\n",
    "        print(\"貓\")\n",
    "    else:\n",
    "        print(\"熊\")\n",
    "else: #沒有毛的\n",
    "    if small:\n",
    "        print(\"小蜥蜴\")\n",
    "    else:\n",
    "        print(\"人類\")"
   ]
  },
  {
   "cell_type": "code",
   "execution_count": null,
   "id": "2d07e6bd",
   "metadata": {},
   "outputs": [
    {
     "name": "stdout",
     "output_type": "stream",
     "text": [
      "學生等級:不及格\n"
     ]
    }
   ],
   "source": [
    "#if...else太多可能會造成程式可讀性不好\n",
    "\n",
    "score:int = int(input(\"請輸入學生分數\"))\n",
    "if score >=80:\n",
    "    grade:str = '優'\n",
    "else:\n",
    "    #小於80\n",
    "    if score >= 60:\n",
    "        #小於80同時大於等於60\n",
    "        grade:str = '及格'\n",
    "    else: #else就是有一個條件與之相反\n",
    "        grade:str = '不及格'\n",
    "print(f\"學生等級:{grade}\")"
   ]
  },
  {
   "cell_type": "markdown",
   "id": "fe751a3f",
   "metadata": {},
   "source": [
    "### 多項選擇\n",
    "- if...else 3個一定執行1個\n",
    "- 嚴格的條件需要放在最上方"
   ]
  },
  {
   "cell_type": "code",
   "execution_count": null,
   "id": "b413e01e",
   "metadata": {},
   "outputs": [
    {
     "name": "stdout",
     "output_type": "stream",
     "text": [
      "學生等級:不及格\n"
     ]
    }
   ],
   "source": [
    "#承上，下方使用多項選擇一個if...else\n",
    "#if...else 3個一定執行1個\n",
    "#嚴格的條件需要放在最上方\n",
    "\n",
    "score:int = int(input(\"請輸入學生分數\"))\n",
    "if score >=80:\n",
    "    grade:str = '優'\n",
    "elif score >= 60:        \n",
    "    grade:str = '及格'\n",
    "else: \n",
    "    grade:str = '不及格'\n",
    "print(f\"學生等級:{grade}\")"
   ]
  },
  {
   "cell_type": "markdown",
   "id": "07762d82",
   "metadata": {},
   "source": [
    "- 90(含)~100分為「優」\n",
    "- 80(含)~89分為「甲」\n",
    "- 70(含)~79分為「乙」\n",
    "- 60(含)~69分為「丙」\n",
    "- 0(含)~59分為「丁」"
   ]
  },
  {
   "cell_type": "code",
   "execution_count": 17,
   "id": "24b3b4f0",
   "metadata": {},
   "outputs": [
    {
     "name": "stdout",
     "output_type": "stream",
     "text": [
      "學生等級:乙\n"
     ]
    }
   ],
   "source": [
    "score:int = int(input(\"請輸入學生分數\"))\n",
    "if score >=90:\n",
    "    grade:str = '優'\n",
    "elif score >= 80:        \n",
    "    grade:str = '甲'\n",
    "elif score >= 70:        \n",
    "    grade:str = '乙'\n",
    "elif score >= 60:        \n",
    "    grade:str = '丙'\n",
    "else: \n",
    "    grade:str = '丁'\n",
    "print(f\"學生等級:{grade}\")"
   ]
  }
 ],
 "metadata": {
  "kernelspec": {
   "display_name": "base",
   "language": "python",
   "name": "python3"
  },
  "language_info": {
   "codemirror_mode": {
    "name": "ipython",
    "version": 3
   },
   "file_extension": ".py",
   "mimetype": "text/x-python",
   "name": "python",
   "nbconvert_exporter": "python",
   "pygments_lexer": "ipython3",
   "version": "3.12.7"
  }
 },
 "nbformat": 4,
 "nbformat_minor": 5
}
