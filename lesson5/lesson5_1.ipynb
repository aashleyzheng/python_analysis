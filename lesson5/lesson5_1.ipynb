{
 "cells": [
  {
   "cell_type": "markdown",
   "id": "b4e1bd26",
   "metadata": {},
   "source": [
    "### 巢狀判斷-有多個條件時\n",
    "- 貓\n",
    "- 熊\n",
    "- 蜥蜴\n",
    "- 人類"
   ]
  },
  {
   "cell_type": "code",
   "execution_count": 12,
   "id": "c109dfad",
   "metadata": {},
   "outputs": [
    {
     "name": "stdout",
     "output_type": "stream",
     "text": [
      "熊\n"
     ]
    }
   ],
   "source": [
    "furry:bool = True #:bool可寫可不寫\n",
    "small:bool = False\n",
    "\n",
    "#雙向選擇\n",
    "if furry: #有毛的\n",
    "    if small:\n",
    "        print(\"貓\")\n",
    "    else:\n",
    "        print(\"熊\")\n",
    "else: #沒有毛的\n",
    "    if small:\n",
    "        print(\"小蜥蜴\")\n",
    "    else:\n",
    "        print(\"人類\")"
   ]
  },
  {
   "cell_type": "code",
   "execution_count": null,
   "id": "2d07e6bd",
   "metadata": {},
   "outputs": [
    {
     "name": "stdout",
     "output_type": "stream",
     "text": [
      "學生等級:不及格\n"
     ]
    }
   ],
   "source": [
    "#if...else太多可能會造成程式可讀性不好\n",
    "\n",
    "score:int = int(input(\"請輸入學生分數\"))\n",
    "if score >=80:\n",
    "    grade:str = '優'\n",
    "else:\n",
    "    #小於80\n",
    "    if score >= 60:\n",
    "        #小於80同時大於等於60\n",
    "        grade:str = '及格'\n",
    "    else: #else就是有一個條件與之相反\n",
    "        grade:str = '不及格'\n",
    "print(f\"學生等級:{grade}\")"
   ]
  },
  {
   "cell_type": "markdown",
   "id": "fe751a3f",
   "metadata": {},
   "source": [
    "### 多項選擇\n",
    "- if...else 3個一定執行1個\n",
    "- 嚴格的條件需要放在最上方"
   ]
  },
  {
   "cell_type": "code",
   "execution_count": null,
   "id": "b413e01e",
   "metadata": {},
   "outputs": [
    {
     "name": "stdout",
     "output_type": "stream",
     "text": [
      "學生等級:不及格\n"
     ]
    }
   ],
   "source": [
    "#承上，下方使用多項選擇一個if...else\n",
    "#if...else 3個一定執行1個\n",
    "#嚴格的條件需要放在最上方\n",
    "\n",
    "score:int = int(input(\"請輸入學生分數\"))\n",
    "if score >=80:\n",
    "    grade:str = '優'\n",
    "elif score >= 60:        \n",
    "    grade:str = '及格'\n",
    "else: \n",
    "    grade:str = '不及格'\n",
    "print(f\"學生等級:{grade}\")"
   ]
  },
  {
   "cell_type": "markdown",
   "id": "07762d82",
   "metadata": {},
   "source": [
    "- 90(含)~100分為「優」\n",
    "- 80(含)~89分為「甲」\n",
    "- 70(含)~79分為「乙」\n",
    "- 60(含)~69分為「丙」\n",
    "- 0(含)~59分為「丁」"
   ]
  },
  {
   "cell_type": "code",
   "execution_count": 17,
   "id": "24b3b4f0",
   "metadata": {},
   "outputs": [
    {
     "name": "stdout",
     "output_type": "stream",
     "text": [
      "學生等級:乙\n"
     ]
    }
   ],
   "source": [
    "score:int = int(input(\"請輸入學生分數\"))\n",
    "if score >=90:\n",
    "    grade:str = '優'\n",
    "elif score >= 80:        \n",
    "    grade:str = '甲'\n",
    "elif score >= 70:        \n",
    "    grade:str = '乙'\n",
    "elif score >= 60:        \n",
    "    grade:str = '丙'\n",
    "else: \n",
    "    grade:str = '丁'\n",
    "print(f\"學生等級:{grade}\")"
   ]
  },
  {
   "cell_type": "markdown",
   "id": "cd3d2d81",
   "metadata": {},
   "source": [
    "#### 輸入顧客購買金額，若金額在\n",
    "\n",
    "- 100000元打8折\n",
    "- 50000元打85折\n",
    "- 30000元打9折\n",
    "- 10000元打95折\n",
    "\n",
    "#### 請輸入購買金額:130000\n",
    "#### 實付金額是:104000.0 元"
   ]
  },
  {
   "cell_type": "code",
   "execution_count": null,
   "id": "845bec87",
   "metadata": {},
   "outputs": [
    {
     "name": "stdout",
     "output_type": "stream",
     "text": [
      "實付金額是:127040.0\n"
     ]
    }
   ],
   "source": [
    "money:int = int(input(\"請輸入購買金額:\"))\n",
    "if money < 10000:\n",
    "    pay_money:int = money\n",
    "elif money < 30000:\n",
    "    pay_money:int = round(money*0.95)\n",
    "elif money < 50000:\n",
    "    pay_money:int = round(money*0.09)\n",
    "elif money < 100000:\n",
    "    pay_money:int = round(money*0.85)\n",
    "else:\n",
    "    pay_money:int = round(money*0.8)\n",
    "print(f\"實付金額是:{pay_money}\")"
   ]
  },
  {
   "cell_type": "markdown",
   "id": "a299f5e2",
   "metadata": {},
   "source": [
    "### 巢狀判斷\n",
    "- 關係運算子(比較運算子)會傳出布林值"
   ]
  },
  {
   "cell_type": "code",
   "execution_count": null,
   "id": "083c84f7",
   "metadata": {},
   "outputs": [
    {
     "name": "stdout",
     "output_type": "stream",
     "text": [
      "獎金:500\n"
     ]
    }
   ],
   "source": [
    "# 國文100同時數學100,獎金1000\n",
    "# 只有一科100分,獎金500\n",
    "\n",
    "chinese = int(input(\"請輸入國文分數\"))\n",
    "math = int(input(\"請輸入數學分數\"))\n",
    "\n",
    "#巢狀判斷\n",
    "\n",
    "bonus = 0 \n",
    "if chinese == 100:\n",
    "    if math == 100:\n",
    "        bonus = 1000\n",
    "    else:\n",
    "        bonus = 500\n",
    "elif math == 100:\n",
    "    bonus = 500\n",
    "\n",
    "print(f\"獎金:{bonus}\")"
   ]
  },
  {
   "cell_type": "markdown",
   "id": "f155df33",
   "metadata": {},
   "source": [
    "### 邏輯運算子"
   ]
  },
  {
   "cell_type": "code",
   "execution_count": null,
   "id": "3a993ae0",
   "metadata": {},
   "outputs": [
    {
     "name": "stdout",
     "output_type": "stream",
     "text": [
      "獎金:500\n"
     ]
    }
   ],
   "source": [
    "# 國文100同時數學100,獎金1000\n",
    "# 只有一科100分,獎金500\n",
    "\n",
    "chinese = int(input(\"請輸入國文分數\"))\n",
    "math = int(input(\"請輸入數學分數\"))\n",
    "\n",
    "#邏輯運算子\n",
    "#邏輯運算子:and是嚴格的\n",
    "bonus = 0 #bonus已先設定為0，因此可不需要加上else\n",
    "if chinese == 100 and math == 100:\n",
    "    bonus = 1000\n",
    "elif chinese == 100 or math == 100:\n",
    "    bonus = 500\n",
    "\n",
    "print(f\"獎金:{bonus}\")"
   ]
  },
  {
   "cell_type": "code",
   "execution_count": null,
   "id": "6e92c096",
   "metadata": {},
   "outputs": [],
   "source": [
    "# 國文100同時數學100,獎金1000\n",
    "# 只有一科100分,獎金500\n",
    "\n",
    "chinese = int(input(\"請輸入國文分數\"))\n",
    "math = int(input(\"請輸入數學分數\"))\n",
    "\n",
    "#邏輯運算子\n",
    "#邏輯運算子:and是嚴格的\n",
    "\n",
    "#bonus = 0 #bonus沒有先設定為0，因此\"需要\"加上else\n",
    "if chinese == 100 and math == 100:\n",
    "    bonus = 1000\n",
    "elif chinese == 100 or math == 100:\n",
    "    bonus = 500\n",
    "else:\n",
    "    bonus = 0\n",
    "\n",
    "print(f\"獎金:{bonus}\")"
   ]
  },
  {
   "cell_type": "markdown",
   "id": "9e9b7fe6",
   "metadata": {},
   "source": [
    "### not 使用的方法\n",
    "- True區塊和False區塊，對調"
   ]
  },
  {
   "cell_type": "code",
   "execution_count": 29,
   "id": "ee1b470f",
   "metadata": {},
   "outputs": [
    {
     "name": "stdout",
     "output_type": "stream",
     "text": [
      "不可以考駕照\n"
     ]
    }
   ],
   "source": [
    "age = int(input(\"請輸入age:\"))\n",
    "if age < 18:\n",
    "    print(\"不可以考駕照\")\n",
    "else:\n",
    "    print(\"可以考駕照\")"
   ]
  },
  {
   "cell_type": "code",
   "execution_count": 31,
   "id": "7ca0ce33",
   "metadata": {},
   "outputs": [
    {
     "name": "stdout",
     "output_type": "stream",
     "text": [
      "不可以考駕照\n"
     ]
    }
   ],
   "source": [
    "age = int(input(\"請輸入age:\"))\n",
    "if not age < 18:\n",
    "    print(\"可以考駕照\")\n",
    "else:\n",
    "    print(\"不可以考駕照\")"
   ]
  }
 ],
 "metadata": {
  "kernelspec": {
   "display_name": "base",
   "language": "python",
   "name": "python3"
  },
  "language_info": {
   "codemirror_mode": {
    "name": "ipython",
    "version": 3
   },
   "file_extension": ".py",
   "mimetype": "text/x-python",
   "name": "python",
   "nbconvert_exporter": "python",
   "pygments_lexer": "ipython3",
   "version": "3.12.7"
  }
 },
 "nbformat": 4,
 "nbformat_minor": 5
}
