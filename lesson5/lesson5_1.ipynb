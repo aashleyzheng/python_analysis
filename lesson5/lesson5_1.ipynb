{
 "cells": [
  {
   "cell_type": "markdown",
   "id": "b4e1bd26",
   "metadata": {},
   "source": [
    "### 巢狀判斷-有多個條件時\n",
    "- 貓\n",
    "- 熊\n",
    "- 蜥蜴\n",
    "- 人類"
   ]
  },
  {
   "cell_type": "code",
   "execution_count": null,
   "id": "c109dfad",
   "metadata": {},
   "outputs": [],
   "source": [
    "furry:bool = True #:bool可寫可不寫\n",
    "small:bool = True\n",
    "\n",
    "#雙向選擇\n",
    "if furry: #有毛的\n",
    "    if small:\n",
    "        print(\"貓\")\n",
    "    else:\n",
    "        print(\"熊\")\n",
    "else: #沒有毛的\n",
    "    if small:\n",
    "        print(\"小蜥蜴\")\n",
    "    else:\n",
    "        print(\"人類\")"
   ]
  }
 ],
 "metadata": {
  "kernelspec": {
   "display_name": "base",
   "language": "python",
   "name": "python3"
  },
  "language_info": {
   "name": "python",
   "version": "3.12.7"
  }
 },
 "nbformat": 4,
 "nbformat_minor": 5
}
