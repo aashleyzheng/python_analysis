{
 "cells": [
  {
   "cell_type": "markdown",
   "id": "d780f6c8",
   "metadata": {},
   "source": [
    "### 請修改以下程式\n",
    "輸入顧客購買金額，若金額在\n",
    "100000元打8折.\n",
    "50000打85折.\n",
    "30000打9折.\n",
    "10000打95折.\n",
    "\n",
    "請輸入購買金額:130000\n",
    "實付金額是: 104000.0 元\n",
    "\n",
    "```\n",
    "money:int = int(input(\"請輸入購買金額:\"))\n",
    "if money < 10000:\n",
    "    pay_money:int = money \n",
    "\n",
    "print(f\"實付金額是:pay_money\")\n",
    "```"
   ]
  }
 ],
 "metadata": {
  "kernelspec": {
   "display_name": "base",
   "language": "python",
   "name": "python3"
  },
  "language_info": {
   "name": "python",
   "version": "3.12.7"
  }
 },
 "nbformat": 4,
 "nbformat_minor": 5
}
