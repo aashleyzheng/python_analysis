{
 "cells": [
  {
   "cell_type": "markdown",
   "id": "5c7f551d",
   "metadata": {},
   "source": [
    "### 請求2數的公因數\n",
    "```\n",
    "#求公因數\n",
    "print(\"請輸入2數,求2數公因數:\")\n",
    "n = int(input('請輸入第1個數:'))\n",
    "m = int(input('請輸入第2個數:'))\n",
    "```\n",
    "#### Tip\n",
    "- python內建的function->min()"
   ]
  }
 ],
 "metadata": {
  "kernelspec": {
   "display_name": "base",
   "language": "python",
   "name": "python3"
  },
  "language_info": {
   "name": "python",
   "version": "3.12.7"
  }
 },
 "nbformat": 4,
 "nbformat_minor": 5
}
