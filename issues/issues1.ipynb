{
 "cells": [
  {
   "cell_type": "markdown",
   "id": "b60041b7",
   "metadata": {},
   "source": [
    "### 讓使用者輸入1數值，輸出判斷是奇數還是偶數，\n",
    "### 如果使用者輸入�,無法轉換為數值,請輸出錯誤訊息"
   ]
  }
 ],
 "metadata": {
  "language_info": {
   "name": "python"
  }
 },
 "nbformat": 4,
 "nbformat_minor": 5
}
