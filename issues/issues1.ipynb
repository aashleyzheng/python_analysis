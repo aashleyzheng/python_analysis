{
 "cells": [
  {
   "cell_type": "markdown",
   "id": "b60041b7",
   "metadata": {},
   "source": [
    "### 輸入一個整數，判斷它是偶數還是奇數 \n",
    "- 讓使用者輸入1數值，輸出判斷是奇數還是偶數，\n",
    "- 如果使用者輸入�,無法轉換為數值,請輸出錯誤訊息"
   ]
  }
 ],
 "metadata": {
  "kernelspec": {
   "display_name": "base",
   "language": "python",
   "name": "python3"
  },
  "language_info": {
   "name": "python",
   "version": "3.12.7"
  }
 },
 "nbformat": 4,
 "nbformat_minor": 5
}
