{
 "cells": [
  {
   "cell_type": "markdown",
   "id": "6fa3ce0c",
   "metadata": {},
   "source": [
    "### 猜數字遊戲"
   ]
  },
  {
   "cell_type": "code",
   "execution_count": 30,
   "id": "7e6dc737",
   "metadata": {},
   "outputs": [
    {
     "name": "stdout",
     "output_type": "stream",
     "text": [
      "===========猜數字遊戲===========\n",
      "\n",
      "\n",
      "再小一點\n",
      "您已經猜了:1次\n",
      "再小一點\n",
      "您已經猜了:2次\n",
      "再小一點\n",
      "您已經猜了:3次\n",
      "再小一點\n",
      "您已經猜了:4次\n",
      "再小一點\n",
      "您已經猜了:5次\n",
      "再小一點\n",
      "您已經猜了:6次\n",
      "再小一點\n",
      "您已經猜了:7次\n",
      "再小一點\n",
      "您已經猜了:8次\n",
      "再小一點\n",
      "您已經猜了:9次\n",
      "賓果!猜對了，答案是:51\n",
      "您猜了10次\n",
      "猜數字遊戲結束\n"
     ]
    }
   ],
   "source": [
    "import random\n",
    "min = 1 #先給變數並預先設定值\n",
    "max = 99 #先給變數並預先設定值\n",
    "count = 0 #因為不確定玩家會猜幾次，所以先給0\n",
    "target = random.randint(min, max)\n",
    "print(\"===========猜數字遊戲===========\\n\\n\")\n",
    "while(True):\n",
    "    keyin = int(input(f'猜數字範圍{min}~{max}'))\n",
    "    count += 1 #開始猜的時候便會+=1\n",
    "    if(keyin >= min and keyin <= max): #大於等於最小值，小於等於最大值\n",
    "        if(keyin == target):\n",
    "            print(f\"賓果!猜對了，答案是:{target}\")\n",
    "            print(f\"您猜了{count}次\")\n",
    "            break    \n",
    "        elif keyin < target:\n",
    "            print(\"再大一點\")\n",
    "            min = keyin + 1        \n",
    "        elif keyin > target:\n",
    "            print(\"再小一點\")\n",
    "            max = keyin - 1\n",
    "            print(f\"您已經猜了:{count}次\")\n",
    "    else:\n",
    "        print(\"請輸入提示範圍內的數字\")\n",
    "    \n",
    "   \n",
    "\n",
    "print(\"猜數字遊戲結束\")\n"
   ]
  },
  {
   "cell_type": "code",
   "execution_count": null,
   "id": "d5f1c411",
   "metadata": {},
   "outputs": [],
   "source": [
    "import random\n",
    "min = 1\n",
    "max = 99\n",
    "count = 0\n",
    "target = random.randint(min, max)\n",
    "print(\"=========猜數字遊戲============\\n\\n\")\n",
    "#print(target)\n",
    "while(True):\n",
    "    keyin = int(input(f'猜數字範圍{min}~{max}'))\n",
    "    count += 1\n",
    "    if(keyin >= min and keyin <= max):\n",
    "        if(keyin == target):\n",
    "            print(f\"賓果!猜對了, 答案是:{target}\")\n",
    "            print(f\"您共猜了{count}次\")\n",
    "            break\n",
    "        elif keyin < target:\n",
    "            print(\"再大一點\")\n",
    "            min = keyin + 1\n",
    "        elif keyin > target:\n",
    "            print(\"再小一點\")\n",
    "            max = keyin - 1\n",
    "        print(f\"您已經猜了:{count}次\")\n",
    "    else:\n",
    "        print(\"請輸入提示範圍內的數字\")\n",
    "    \n",
    "    \n",
    "\n",
    "print(\"猜數字遊戲結束\")"
   ]
  }
 ],
 "metadata": {
  "kernelspec": {
   "display_name": "base",
   "language": "python",
   "name": "python3"
  },
  "language_info": {
   "codemirror_mode": {
    "name": "ipython",
    "version": 3
   },
   "file_extension": ".py",
   "mimetype": "text/x-python",
   "name": "python",
   "nbconvert_exporter": "python",
   "pygments_lexer": "ipython3",
   "version": "3.12.7"
  }
 },
 "nbformat": 4,
 "nbformat_minor": 5
}
