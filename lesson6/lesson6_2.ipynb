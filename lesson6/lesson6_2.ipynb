{
 "cells": [
  {
   "cell_type": "markdown",
   "id": "6f761e28",
   "metadata": {},
   "source": [
    "### 不知道執行次數的迴圈 while"
   ]
  },
  {
   "cell_type": "code",
   "execution_count": 4,
   "id": "f99f129d",
   "metadata": {},
   "outputs": [
    {
     "name": "stdout",
     "output_type": "stream",
     "text": [
      "恭喜！已經存夠了，存了1月，共存了500000元\n"
     ]
    }
   ],
   "source": [
    "#小明想要存錢買一輛機車,機車每輛30000元，他將每月存的錢輸入，當存款足夠買機車時，就顯示提示訊息告知。\n",
    "#你不知道要存幾個月\n",
    "#必需找到被比較的變數\n",
    "\n",
    "deposit = 0 #step1.\n",
    "month = 0\n",
    "while(deposit < 30000): #step2.\n",
    "    month += 1 #存進來就加1\n",
    "    input_money = int(input(\"請輸入第{month}月份的存款:\"))\n",
    "    deposit += input_money #step3.此行沒有輸入會造成無限迴圈\n",
    "\n",
    "print(f\"恭喜！已經存夠了，存了{month}月，共存了{deposit}元\")"
   ]
  }
 ],
 "metadata": {
  "kernelspec": {
   "display_name": "base",
   "language": "python",
   "name": "python3"
  },
  "language_info": {
   "codemirror_mode": {
    "name": "ipython",
    "version": 3
   },
   "file_extension": ".py",
   "mimetype": "text/x-python",
   "name": "python",
   "nbconvert_exporter": "python",
   "pygments_lexer": "ipython3",
   "version": "3.12.7"
  }
 },
 "nbformat": 4,
 "nbformat_minor": 5
}
