{
 "cells": [
  {
   "cell_type": "markdown",
   "id": "b772226d",
   "metadata": {},
   "source": [
    "## 這是第三節課的內容"
   ]
  },
  {
   "cell_type": "code",
   "execution_count": null,
   "id": "4395ee49",
   "metadata": {},
   "outputs": [
    {
     "name": "stdout",
     "output_type": "stream",
     "text": [
      "矩形的寬:345.8 高:245.896 面積是85030.84\n"
     ]
    }
   ],
   "source": [
    "width = 345.8\n",
    "height = 245.896\n",
    "#class type(object)=>可以使用type查詢字元\"型別\"\n",
    "#type(width) \n",
    "#type(height)\n",
    "area = width * height\n",
    "type(area)\n",
    "#字串插補 => 成為一個字串\n",
    "print(f\"矩形的寬:{width} 高:{height} 面積是{round(area,ndigits=2)}\")"
   ]
  },
  {
   "cell_type": "markdown",
   "id": "561aef24",
   "metadata": {},
   "source": [
    "### 重點是 input( )"
   ]
  },
  {
   "cell_type": "code",
   "execution_count": null,
   "id": "8e3b6f16",
   "metadata": {},
   "outputs": [
    {
     "data": {
      "text/plain": [
       "float"
      ]
     },
     "execution_count": 4,
     "metadata": {},
     "output_type": "execute_result"
    }
   ],
   "source": [
    "width_input = input(\"請輸入矩形的的寬:\") #input的\"datatype(資料型別)\"為str(字串)\n",
    "type(width_input)\n",
    "width_value = float(width_input) #將str(字串)轉為float(浮點數)\n",
    "type(width_value)"
   ]
  },
  {
   "cell_type": "code",
   "execution_count": null,
   "id": "eeea74a4",
   "metadata": {},
   "outputs": [
    {
     "name": "stdout",
     "output_type": "stream",
     "text": [
      "矩形的寬:549.32 高:65.5 面積是35980.46\n"
     ]
    }
   ],
   "source": [
    "width = float(input(\"請輸入矩形的的寬:\")) #字串轉為浮點數\n",
    "height = float(input(\"請輸入矩形的的高:\"))\n",
    "area = width * height\n",
    "print(f\"矩形的寬:{width} 高:{height} 面積是{round(area,ndigits=2)}\")"
   ]
  }
 ],
 "metadata": {
  "kernelspec": {
   "display_name": "base",
   "language": "python",
   "name": "python3"
  },
  "language_info": {
   "codemirror_mode": {
    "name": "ipython",
    "version": 3
   },
   "file_extension": ".py",
   "mimetype": "text/x-python",
   "name": "python",
   "nbconvert_exporter": "python",
   "pygments_lexer": "ipython3",
   "version": "3.12.7"
  }
 },
 "nbformat": 4,
 "nbformat_minor": 5
}
