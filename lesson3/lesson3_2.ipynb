{
 "cells": [
  {
   "cell_type": "markdown",
   "id": "a2cc2288",
   "metadata": {},
   "source": [
    "### 複合指定運算子"
   ]
  },
  {
   "cell_type": "code",
   "execution_count": null,
   "id": "cc8204fc",
   "metadata": {
    "vscode": {
     "languageId": "plaintext"
    }
   },
   "outputs": [],
   "source": [
    "#數學運算子是需要傳出值並且需要進行接收\n",
    "n = 10\n",
    "n + 1\n",
    "print(n)"
   ]
  },
  {
   "cell_type": "code",
   "execution_count": null,
   "id": "187c7aef",
   "metadata": {
    "vscode": {
     "languageId": "plaintext"
    }
   },
   "outputs": [],
   "source": [
    "n = 10\n",
    "n = n + 1 #指定運算子，把右邊的數值指定給左邊\n",
    "print(n)"
   ]
  },
  {
   "cell_type": "code",
   "execution_count": null,
   "id": "f5d29917",
   "metadata": {
    "vscode": {
     "languageId": "plaintext"
    }
   },
   "outputs": [],
   "source": [
    "n = 10\n",
    "n += 1 #複合指定運算子\n",
    "print(n)"
   ]
  },
  {
   "cell_type": "code",
   "execution_count": null,
   "id": "59fd3051",
   "metadata": {
    "vscode": {
     "languageId": "plaintext"
    }
   },
   "outputs": [],
   "source": [
    "n = 10\n",
    "n *= 10 #複合指定運算子\n",
    "print(n)"
   ]
  },
  {
   "cell_type": "code",
   "execution_count": null,
   "id": "f2db36f8",
   "metadata": {},
   "outputs": [],
   "source": [
    "#數字加總之前都需要先給零，float = 0.0，int = 0\n",
    "#也可以不看datetype直接給零\n",
    "total = 0.0 \n",
    "n = float(input(\"請輸入第一個數:\"))\n",
    "total += n #n是一個變數\n",
    "n = float(input(\"請輸入第二個數:\"))\n",
    "total += n #n是一個變數\n",
    "n = float(input(\"請輸入第三個數:\"))\n",
    "total += n #n是一個變數\n",
    "\n",
    "print(f\"三數總和為:{total}\")"
   ]
  }
 ],
 "metadata": {
  "language_info": {
   "name": "python"
  }
 },
 "nbformat": 4,
 "nbformat_minor": 5
}
