{
 "cells": [
  {
   "cell_type": "markdown",
   "id": "a2cc2288",
   "metadata": {},
   "source": [
    "### 複合指定運算子"
   ]
  },
  {
   "cell_type": "code",
   "execution_count": 1,
   "id": "da6d7847",
   "metadata": {},
   "outputs": [
    {
     "name": "stdout",
     "output_type": "stream",
     "text": [
      "10\n"
     ]
    }
   ],
   "source": [
    "#數學運算子是需要傳出值並且需要進行接收\n",
    "n = 10\n",
    "n + 1\n",
    "print(n)"
   ]
  },
  {
   "cell_type": "code",
   "execution_count": 2,
   "id": "9b35d716",
   "metadata": {},
   "outputs": [
    {
     "name": "stdout",
     "output_type": "stream",
     "text": [
      "11\n"
     ]
    }
   ],
   "source": [
    "n = 10\n",
    "n = n + 1 #指定運算子，把右邊的數值指定給左邊\n",
    "print(n)"
   ]
  },
  {
   "cell_type": "code",
   "execution_count": 3,
   "id": "4874bf41",
   "metadata": {},
   "outputs": [
    {
     "name": "stdout",
     "output_type": "stream",
     "text": [
      "11\n"
     ]
    }
   ],
   "source": [
    "n = 10\n",
    "n += 1 #複合指定運算子\n",
    "print(n)"
   ]
  },
  {
   "cell_type": "code",
   "execution_count": 4,
   "id": "ccb87e56",
   "metadata": {},
   "outputs": [
    {
     "name": "stdout",
     "output_type": "stream",
     "text": [
      "100\n"
     ]
    }
   ],
   "source": [
    "n = 10\n",
    "n *= 10 #複合指定運算子\n",
    "print(n)"
   ]
  },
  {
   "cell_type": "markdown",
   "id": "801525d8",
   "metadata": {},
   "source": [
    "- 請以(複合指定運算子)設計程式,讓用者輸入三個任意數，程式會顯示3數相加的總和(float)"
   ]
  },
  {
   "cell_type": "code",
   "execution_count": null,
   "id": "f2db36f8",
   "metadata": {},
   "outputs": [],
   "source": [
    "#數字加總之前都需要先給零，float = 0.0，int = 0\n",
    "#也可以不看datetype直接給零\n",
    "total = 0.0 \n",
    "n = float(input(\"請輸入第一個數:\"))\n",
    "total += n #n是一個變數\n",
    "n = float(input(\"請輸入第二個數:\"))\n",
    "total += n #n是一個變數\n",
    "n = float(input(\"請輸入第三個數:\"))\n",
    "total += n #n是一個變數\n",
    "\n",
    "print(f\"三數總和為:{total}\")"
   ]
  }
 ],
 "metadata": {
  "kernelspec": {
   "display_name": "base",
   "language": "python",
   "name": "python3"
  },
  "language_info": {
   "codemirror_mode": {
    "name": "ipython",
    "version": 3
   },
   "file_extension": ".py",
   "mimetype": "text/x-python",
   "name": "python",
   "nbconvert_exporter": "python",
   "pygments_lexer": "ipython3",
   "version": "3.12.7"
  }
 },
 "nbformat": 4,
 "nbformat_minor": 5
}
